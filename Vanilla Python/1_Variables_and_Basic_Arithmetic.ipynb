{
 "cells": [
  {
   "attachments": {},
   "cell_type": "markdown",
   "metadata": {},
   "source": [
    "# Python Basics\n",
    "This notebook will have some syntax examples for vanilla Python"
   ]
  },
  {
   "attachments": {},
   "cell_type": "markdown",
   "metadata": {},
   "source": [
    "### Creating variables\n",
    "Here, we show how to create basic variables like integers, floating-point numbers, and strings.\n",
    "\n",
    "In Python, you don't need to explicitly state your variable type like you do in some other languages like Java or C++."
   ]
  },
  {
   "cell_type": "code",
   "execution_count": 1,
   "metadata": {},
   "outputs": [],
   "source": [
    "# Note that this is a comment ^.^ just so you know\n",
    "var_a = 1\n",
    "var_b = -1.5\n",
    "my_text = \"TheraPy Session\""
   ]
  },
  {
   "attachments": {},
   "cell_type": "markdown",
   "metadata": {},
   "source": [
    "### Basic Printing\n",
    "Here, we show how to do the most basic way to print to console."
   ]
  },
  {
   "cell_type": "code",
   "execution_count": 2,
   "metadata": {},
   "outputs": [
    {
     "name": "stdout",
     "output_type": "stream",
     "text": [
      "Hello, TheraPy Session viewers!\n",
      "1\n",
      "-1.5\n",
      "TheraPy Session\n"
     ]
    }
   ],
   "source": [
    "print(\"Hello, TheraPy Session viewers!\")\n",
    "print(var_a)\n",
    "print(var_b)\n",
    "print(my_text)"
   ]
  },
  {
   "attachments": {},
   "cell_type": "markdown",
   "metadata": {},
   "source": [
    "### Basic Arithmetic\n",
    "Now, let's get into some basic arithmetic examples."
   ]
  },
  {
   "cell_type": "code",
   "execution_count": 3,
   "metadata": {},
   "outputs": [],
   "source": [
    "# Declare some variables for us to use\n",
    "num_a = 5\n",
    "num_b = 3\n",
    "num_c = -2.5"
   ]
  },
  {
   "cell_type": "code",
   "execution_count": 4,
   "metadata": {},
   "outputs": [
    {
     "name": "stdout",
     "output_type": "stream",
     "text": [
      "8\n",
      "0.5\n",
      "-2.25\n"
     ]
    }
   ],
   "source": [
    "# Addition\n",
    "add_a = num_a + num_b # Add two integers together\n",
    "add_b = num_b + num_c # Add an integer and a floating-point number\n",
    "add_c = num_c + 0.25  # Add a fixed value to a variable\n",
    "\n",
    "print(add_a)\n",
    "print(add_b)\n",
    "print(add_c)"
   ]
  },
  {
   "cell_type": "code",
   "execution_count": 5,
   "metadata": {},
   "outputs": [
    {
     "name": "stdout",
     "output_type": "stream",
     "text": [
      "2\n",
      "5.5\n",
      "-3.25\n"
     ]
    }
   ],
   "source": [
    "# Subtraction\n",
    "sub_a = num_a - num_b\n",
    "sub_b = num_b - num_c\n",
    "sub_c = num_c - 0.75\n",
    "\n",
    "print(sub_a)\n",
    "print(sub_b)\n",
    "print(sub_c)"
   ]
  },
  {
   "cell_type": "code",
   "execution_count": 6,
   "metadata": {},
   "outputs": [
    {
     "name": "stdout",
     "output_type": "stream",
     "text": [
      "15\n",
      "-7.5\n",
      "-6.25\n"
     ]
    }
   ],
   "source": [
    "# Multiplication\n",
    "mul_a = num_a * num_b\n",
    "mul_b = num_b * num_c\n",
    "mul_c = num_c * 2.5\n",
    "\n",
    "print(mul_a)\n",
    "print(mul_b)\n",
    "print(mul_c)"
   ]
  },
  {
   "cell_type": "code",
   "execution_count": 7,
   "metadata": {},
   "outputs": [
    {
     "name": "stdout",
     "output_type": "stream",
     "text": [
      "1.6666666666666667\n",
      "-1.2\n",
      "5.0\n"
     ]
    }
   ],
   "source": [
    "# \"Regular\" Division\n",
    "div_a = num_a / num_b\n",
    "div_b = num_b / num_c\n",
    "div_c = num_c / -0.5\n",
    "\n",
    "print(div_a)\n",
    "print(div_b)\n",
    "print(div_c)"
   ]
  },
  {
   "cell_type": "code",
   "execution_count": 8,
   "metadata": {},
   "outputs": [
    {
     "name": "stdout",
     "output_type": "stream",
     "text": [
      "\"Integer\" part of division\n",
      "6\n",
      "7.0\n",
      "Remainder of division\n",
      "1\n",
      "0.5\n"
     ]
    }
   ],
   "source": [
    "# Integer Division and Modulo\n",
    "int_a = 25\n",
    "int_b = 4\n",
    "\n",
    "idiv_a = int_a // int_b\n",
    "idiv_b = int_a // 3.5\n",
    "\n",
    "print(\"\\\"Integer\\\" part of division\")\n",
    "print(idiv_a)\n",
    "print(idiv_b)\n",
    "\n",
    "mod_a = int_a % int_b\n",
    "mod_b = int_a % 3.5\n",
    "\n",
    "print(\"Remainder of division\")\n",
    "print(mod_a)\n",
    "print(mod_b)"
   ]
  }
 ],
 "metadata": {
  "kernelspec": {
   "display_name": "Python 3",
   "language": "python",
   "name": "python3"
  },
  "language_info": {
   "codemirror_mode": {
    "name": "ipython",
    "version": 3
   },
   "file_extension": ".py",
   "mimetype": "text/x-python",
   "name": "python",
   "nbconvert_exporter": "python",
   "pygments_lexer": "ipython3",
   "version": "3.8.1"
  },
  "orig_nbformat": 4,
  "vscode": {
   "interpreter": {
    "hash": "570feb405e2e27c949193ac68f46852414290d515b0ba6e5d90d076ed2284471"
   }
  }
 },
 "nbformat": 4,
 "nbformat_minor": 2
}
