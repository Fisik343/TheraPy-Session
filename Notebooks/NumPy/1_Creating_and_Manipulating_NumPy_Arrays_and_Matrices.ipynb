{
 "cells": [
  {
   "attachments": {},
   "cell_type": "markdown",
   "metadata": {},
   "source": [
    "# Creating and Manipulating NumPy Arrays and Matrices\n",
    "This notebook should help to get familiar with some of the basic functions and operations in NumPy\n",
    "\n",
    "Note that all principles in this tutorial can generally be extended to N-dimensional data structures even though it only explicitly uses 1D and 2D data structures"
   ]
  },
  {
   "attachments": {},
   "cell_type": "markdown",
   "metadata": {},
   "source": [
    "### Import NumPy\n",
    "First, you'll need to import numpy. There's a standard shorthand for NumPy -- np -- so that's what I'll be using."
   ]
  },
  {
   "cell_type": "code",
   "execution_count": 1,
   "metadata": {},
   "outputs": [],
   "source": [
    "import numpy as np"
   ]
  },
  {
   "attachments": {},
   "cell_type": "markdown",
   "metadata": {},
   "source": [
    "### Creating Vectors and Matrices\n",
    "NumPy arrays are somewhat ill-defined as to whether they are row or column vectors, so you can add an extra dimension to make it explicit\n",
    "\n",
    "It is important to remember that vectors are matrices with a size of 1 along one of the axes"
   ]
  },
  {
   "cell_type": "code",
   "execution_count": 2,
   "metadata": {},
   "outputs": [
    {
     "name": "stdout",
     "output_type": "stream",
     "text": [
      "[1 2 3 4]\n"
     ]
    }
   ],
   "source": [
    "# Arrays - 1D data structure\n",
    "sample_array = np.array([1, 2, 3, 4])\n",
    "print(sample_array)"
   ]
  },
  {
   "cell_type": "code",
   "execution_count": 3,
   "metadata": {},
   "outputs": [
    {
     "name": "stdout",
     "output_type": "stream",
     "text": [
      "[[10 20 30 40]]\n",
      "[[11 12 13 14]]\n"
     ]
    }
   ],
   "source": [
    "# Row vectors - 2D data structure\n",
    "sample_row_vec1 = np.array([[10, 20, 30, 40]])\n",
    "sample_row_vec2 = np.array([11, 12, 13, 14])[np.newaxis, :]\n",
    "print(sample_row_vec1)\n",
    "print(sample_row_vec2)"
   ]
  },
  {
   "cell_type": "code",
   "execution_count": 4,
   "metadata": {},
   "outputs": [
    {
     "name": "stdout",
     "output_type": "stream",
     "text": [
      "[[100]\n",
      " [200]\n",
      " [300]\n",
      " [400]]\n",
      "[[101]\n",
      " [202]\n",
      " [303]\n",
      " [404]]\n",
      "[[111]\n",
      " [222]\n",
      " [333]\n",
      " [444]]\n"
     ]
    }
   ],
   "source": [
    "# Column vectors - 2D data structure\n",
    "sample_col_vec1 = np.array([[100], [200], [300], [400]])\n",
    "sample_col_vec2 = np.array([101, 202, 303, 404])[:, np.newaxis]\n",
    "sample_col_vec3 = np.array([[111, 222, 333, 444]]).T\n",
    "print(sample_col_vec1)\n",
    "print(sample_col_vec2)\n",
    "print(sample_col_vec3)"
   ]
  },
  {
   "cell_type": "code",
   "execution_count": 5,
   "metadata": {},
   "outputs": [
    {
     "name": "stdout",
     "output_type": "stream",
     "text": [
      "[[1 2]\n",
      " [3 4]]\n",
      "[[10 20 30 40]\n",
      " [50 60 70 80]]\n",
      "[[11 12]\n",
      " [21 22]\n",
      " [31 32]]\n"
     ]
    }
   ],
   "source": [
    "# Matrices - 2D data structure\n",
    "sample_mat2x2 = np.array([[1, 2], [3, 4]])\n",
    "sample_mat2x4 = np.array([[10, 20, 30, 40], [50, 60, 70, 80]])\n",
    "sample_mat3x2 = np.array([[11, 12], [21, 22], [31, 32]])\n",
    "print(sample_mat2x2)\n",
    "print(sample_mat2x4)\n",
    "print(sample_mat3x2)"
   ]
  },
  {
   "attachments": {},
   "cell_type": "markdown",
   "metadata": {},
   "source": [
    "### Manipulating Arrays"
   ]
  },
  {
   "cell_type": "code",
   "execution_count": null,
   "metadata": {},
   "outputs": [],
   "source": [
    "# Create a 1D array "
   ]
  }
 ],
 "metadata": {
  "kernelspec": {
   "display_name": "Python 3",
   "language": "python",
   "name": "python3"
  },
  "language_info": {
   "codemirror_mode": {
    "name": "ipython",
    "version": 3
   },
   "file_extension": ".py",
   "mimetype": "text/x-python",
   "name": "python",
   "nbconvert_exporter": "python",
   "pygments_lexer": "ipython3",
   "version": "3.8.1"
  },
  "orig_nbformat": 4,
  "vscode": {
   "interpreter": {
    "hash": "570feb405e2e27c949193ac68f46852414290d515b0ba6e5d90d076ed2284471"
   }
  }
 },
 "nbformat": 4,
 "nbformat_minor": 2
}
